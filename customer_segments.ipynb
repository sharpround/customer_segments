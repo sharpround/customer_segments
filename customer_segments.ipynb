{
 "cells": [
  {
   "cell_type": "markdown",
   "metadata": {},
   "source": [
    "# Creating Customer Segments"
   ]
  },
  {
   "cell_type": "markdown",
   "metadata": {},
   "source": [
    "In this project you, will analyze a dataset containing annual spending amounts for internal structure, to understand the variation in the different types of customers that a wholesale distributor interacts with.\n",
    "\n",
    "Instructions:\n",
    "\n",
    "- Run each code block below by pressing **Shift+Enter**, making sure to implement any steps marked with a TODO.\n",
    "- Answer each question in the space provided by editing the blocks labeled \"Answer:\".\n",
    "- When you are done, submit the completed notebook (.ipynb) with all code blocks executed, as well as a .pdf version (File > Download as)."
   ]
  },
  {
   "cell_type": "code",
   "execution_count": 1,
   "metadata": {
    "collapsed": false
   },
   "outputs": [
    {
     "name": "stdout",
     "output_type": "stream",
     "text": [
      "Dataset has 440 rows, 6 columns\n",
      "   Fresh  Milk  Grocery  Frozen  Detergents_Paper  Delicatessen\n",
      "0  12669  9656     7561     214              2674          1338\n",
      "1   7057  9810     9568    1762              3293          1776\n",
      "2   6353  8808     7684    2405              3516          7844\n",
      "3  13265  1196     4221    6404               507          1788\n",
      "4  22615  5410     7198    3915              1777          5185\n",
      "\n",
      "Mean:\n",
      "Fresh               12000.297727\n",
      "Milk                 5796.265909\n",
      "Grocery              7951.277273\n",
      "Frozen               3071.931818\n",
      "Detergents_Paper     2881.493182\n",
      "Delicatessen         1524.870455\n",
      "dtype: float64\n",
      "\n",
      "Standard deviation:\n",
      "Fresh               12647.328865\n",
      "Milk                 7380.377175\n",
      "Grocery              9503.162829\n",
      "Frozen               4854.673333\n",
      "Detergents_Paper     4767.854448\n",
      "Delicatessen         2820.105937\n",
      "dtype: float64\n"
     ]
    }
   ],
   "source": [
    "# Import libraries: NumPy, pandas, matplotlib\n",
    "import numpy as np\n",
    "import pandas as pd\n",
    "import matplotlib.pyplot as plt\n",
    "import seaborn as sns\n",
    "\n",
    "# Tell iPython to include plots inline in the notebook\n",
    "%matplotlib inline\n",
    "\n",
    "# Read dataset\n",
    "data = pd.read_csv(\"wholesale-customers.csv\")\n",
    "print \"Dataset has {} rows, {} columns\".format(*data.shape)\n",
    "print data.head()  # print the first 5 rows\n",
    "print \"\\nMean:\"\n",
    "print data.mean()\n",
    "print \"\\nStandard deviation:\"\n",
    "print data.std()"
   ]
  },
  {
   "cell_type": "markdown",
   "metadata": {},
   "source": [
    "## Feature Transformation"
   ]
  },
  {
   "cell_type": "markdown",
   "metadata": {},
   "source": [
    "**1)** In this section you will be using PCA and ICA to start to understand the structure of the data. Before doing any computations, what do you think will show up in your computations? List one or two ideas for what might show up as the first PCA dimensions, or what type of vectors will show up as ICA dimensions."
   ]
  },
  {
   "cell_type": "markdown",
   "metadata": {},
   "source": [
    "Answer:\n",
    "For the first PCA component, I think we will see \"fresh\" and \"milk\" have the same sign, and relatively magnitude large. Customers interested in one perishable item is likely interested in others.\n",
    "\n",
    "I believe that all the other dimensions would also have the sign, as more spending in one category would likely be associated with higher spending in others.\n",
    "\n",
    "Finally, I think that it is clear that the magnitude of \"fresh\" will be clearly be much larger than the others.\n",
    "\n",
    "I'm hesitant to make any other claims without exploring the data much more, however."
   ]
  },
  {
   "cell_type": "markdown",
   "metadata": {},
   "source": [
    "### PCA"
   ]
  },
  {
   "cell_type": "code",
   "execution_count": 14,
   "metadata": {
    "collapsed": false
   },
   "outputs": [
    {
     "name": "stdout",
     "output_type": "stream",
     "text": [
      "PCA components:\n",
      "[[-0.97653685 -0.12118407 -0.06154039 -0.15236462  0.00705417 -0.06810471]\n",
      " [-0.11061386  0.51580216  0.76460638 -0.01872345  0.36535076  0.05707921]\n",
      " [-0.17855726  0.50988675 -0.27578088  0.71420037 -0.20440987  0.28321747]\n",
      " [-0.04187648 -0.64564047  0.37546049  0.64629232  0.14938013 -0.02039579]\n",
      " [ 0.015986    0.20323566 -0.1602915   0.22018612  0.20793016 -0.91707659]\n",
      " [-0.01576316  0.03349187  0.41093894 -0.01328898 -0.87128428 -0.26541687]]\n",
      "\n",
      "explained variance:\n",
      "[ 0.45961362  0.40517227  0.07003008  0.04402344  0.01502212  0.00613848]\n",
      "\n",
      "cumulative explained variance:\n",
      "[ 0.45961362  0.86478588  0.93481597  0.97883941  0.99386152  1.        ]\n"
     ]
    }
   ],
   "source": [
    "# TODO: Apply PCA with the same number of dimensions as variables in the dataset\n",
    "n_features = data.shape[1]\n",
    "n_samples = data.shape[0]\n",
    "n_components = n_features\n",
    "\n",
    "from sklearn.decomposition import PCA\n",
    "pca = PCA(n_components=n_components)\n",
    "pca.fit(data)\n",
    "\n",
    "# Print the components and the amount of variance in the data contained in each dimension\n",
    "print \"PCA components:\"\n",
    "print pca.components_\n",
    "print \"\\nexplained variance:\"\n",
    "print pca.explained_variance_ratio_\n",
    "print \"\\ncumulative explained variance:\"\n",
    "print np.cumsum(pca.explained_variance_ratio_)"
   ]
  },
  {
   "cell_type": "markdown",
   "metadata": {},
   "source": [
    "**2)** How quickly does the variance drop off by dimension? If you were to use PCA on this dataset, how many dimensions would you choose for your analysis? Why?"
   ]
  },
  {
   "cell_type": "code",
   "execution_count": 12,
   "metadata": {
    "collapsed": false
   },
   "outputs": [
    {
     "name": "stdout",
     "output_type": "stream",
     "text": [
      "[ 0.45961362  0.86478588  0.93481597  0.97883941  0.99386152  1.        ]\n"
     ]
    },
    {
     "data": {
      "image/png": "[encoded data removed]",
      "text/plain": [
       "<matplotlib.figure.Figure at 0xabbca20>"
      ]
     },
     "metadata": {},
     "output_type": "display_data"
    },
    {
     "data": {
      "image/png": "[encoded data removed]",
      "text/plain": [
       "<matplotlib.figure.Figure at 0xcd639b0>"
      ]
     },
     "metadata": {},
     "output_type": "display_data"
    }
   ],
   "source": [
    "plt.figure()\n",
    "plt.plot(range(1, n_components+1), pca.explained_variance_ratio_)\n",
    "plt.axis([0, n_components, 0, 1.1])\n",
    "plt.xlabel(\"component\")\n",
    "plt.ylabel(\"explained variance\")\n",
    "plt.grid(True)\n",
    "plt.title(\"variance explained by each PCA component\")\n",
    "\n",
    "plt.figure()\n",
    "plt.plot(range(1, n_components+1), np.cumsum(pca.explained_variance_ratio_))\n",
    "plt.axis([0, n_components, 0, 1.1])\n",
    "plt.xlabel(\"number of components\")\n",
    "plt.ylabel(\"explained variance\")\n",
    "plt.grid(True)\n",
    "plt.title(\"variance explained by given number of PCA components\")"
   ]
  },
  {
   "cell_type": "markdown",
   "metadata": {
    "collapsed": true
   },
   "source": [
    "Answer:\n",
    "\n",
    "The explained variance falls off rather quickly after the first two components which, between them, capture 86.5% of the variance in the data.\n",
    "\n",
    "IF I were to use PCA on this dataset, how many components I would use would vary depending on what I was trying to do. There are so few dimensions that I don't believe that I would throw any of them away, and use the full set. Unless I start running into computational issues, I don't see any reason to reduce the dimension.\n",
    "\n",
    "That said, if I *did* start running into computational issues, and I need my algorithms to run more efficiently, then I would absolutely keep the first two dimensions. I would compare the results from using two dimensions to those from using three and four dimensions, though, to see what the right balance is. Honestly, I doubt that fourth dimension will make a difference, but I don't see a reason not to check.\n",
    "\n",
    "Unless we want to create tens or hundreds of market segments (which we do not even have the data to do right now), the last 2.1% of variance that the last two dimensions capture should not matter."
   ]
  },
  {
   "cell_type": "code",
   "execution_count": 56,
   "metadata": {
    "collapsed": false
   },
   "outputs": [
    {
     "data": {
      "image/png": "[encoded data removed]",
      "text/plain": [
       "<matplotlib.figure.Figure at 0x12964be0>"
      ]
     },
     "metadata": {},
     "output_type": "display_data"
    },
    {
     "data": {
      "image/png": "[encoded data removed]",
      "text/plain": [
       "<matplotlib.figure.Figure at 0x110a1550>"
      ]
     },
     "metadata": {},
     "output_type": "display_data"
    },
    {
     "data": {
      "image/png": "[encoded data removed]",
      "text/plain": [
       "<matplotlib.figure.Figure at 0xf6ea128>"
      ]
     },
     "metadata": {},
     "output_type": "display_data"
    }
   ],
   "source": [
    "X_reduced = np.dot(pca.components_, np.transpose(data.as_matrix()))\n",
    "\n",
    "plt.figure()\n",
    "plt.plot(-X_reduced[0], X_reduced[1], '.')\n",
    "plt.xlabel(\"component 1\")\n",
    "plt.ylabel(\"component 2\")\n",
    "plt_axis1 = plt.axis('square')\n",
    "\n",
    "plt.figure()\n",
    "plt.plot(-X_reduced[0], X_reduced[2], '.')\n",
    "plt.xlabel(\"component 1\")\n",
    "plt.ylabel(\"component 3\")\n",
    "plt_axis2 = plt.axis('square')\n",
    "\n",
    "plt.figure()\n",
    "plt.plot(X_reduced[1], X_reduced[2], '.')\n",
    "plt.xlabel(\"component 2\")\n",
    "plt.ylabel(\"component 3\")\n",
    "plt_axis3 = plt.axis('square')"
   ]
  },
  {
   "cell_type": "markdown",
   "metadata": {},
   "source": [
    "**3)** What do the dimensions seem to represent? How can you use this information?"
   ]
  },
  {
   "cell_type": "markdown",
   "metadata": {
    "collapsed": true
   },
   "source": [
    "Answer:\n",
    "\n",
    "The dimensions represent the directions in which the data varies. The first two components explain similar amounts of variance. The first points mostly in the \"fresh\" direction, and the second points more-or-less in the \"milk-grocery-detergents_paper\" direction.\n",
    "\n",
    "Just by looking at the directions of the PCA components, we cannot quite claim that \"a customer that buys more 'milk' also buys more 'fresh'\". We can say that the data of most customers will lie near the plane defined by the first two vectors, however. At the very least, projecting onto the PCA components allows us to visualize our data more effectively without losing significant meaning.\n",
    "\n",
    "As mentioned above, we could also project our data onto the first few PCA components in order to reduct the dimensionality of our data."
   ]
  },
  {
   "cell_type": "markdown",
   "metadata": {},
   "source": [
    "### ICA"
   ]
  },
  {
   "cell_type": "code",
   "execution_count": 58,
   "metadata": {
    "collapsed": false
   },
   "outputs": [
    {
     "name": "stdout",
     "output_type": "stream",
     "text": [
      "[[ -1.62803623e-07  -9.79332980e-06   5.97150562e-06   3.35595395e-07\n",
      "   -3.78224409e-06   5.98076683e-06]\n",
      " [  8.63189392e-07   1.46477818e-07  -7.74983850e-07  -1.11475363e-05\n",
      "    5.36014980e-07   5.94975770e-06]\n",
      " [  3.97923321e-06  -8.96416606e-07  -7.92428976e-07  -6.62616562e-07\n",
      "    2.44073738e-06  -9.44965866e-07]\n",
      " [ -1.95350371e-07   1.72220610e-06  -7.48660716e-06  -2.67634931e-07\n",
      "    3.29342751e-06   1.95988299e-06]\n",
      " [ -2.62296087e-07   2.62073549e-06   1.13380219e-05  -1.49912647e-06\n",
      "   -2.79360552e-05  -5.70140694e-06]\n",
      " [ -3.88249933e-07  -2.17825291e-07  -5.87700665e-07  -5.21096522e-07\n",
      "    5.05581652e-07   1.80860387e-05]]\n"
     ]
    }
   ],
   "source": [
    "# TODO: Fit an ICA model to the data\n",
    "# Note: Adjust the data to have center at the origin first!\n",
    "from sklearn.decomposition import FastICA\n",
    "ica = FastICA(n_components=n_components)\n",
    "ica.fit(data)\n",
    "\n",
    "# Print the independent components\n",
    "print ica.components_"
   ]
  },
  {
   "cell_type": "markdown",
   "metadata": {},
   "source": [
    "**4)** For each vector in the ICA decomposition, write a sentence or two explaining what sort of object or property it corresponds to. What could these components be used for?"
   ]
  },
  {
   "cell_type": "markdown",
   "metadata": {
    "collapsed": true
   },
   "source": [
    "Answer: "
   ]
  },
  {
   "cell_type": "markdown",
   "metadata": {},
   "source": [
    "## Clustering\n",
    "\n",
    "In this section you will choose either K Means clustering or Gaussian Mixed Models clustering, which implements expectation-maximization. Then you will sample elements from the clusters to understand their significance."
   ]
  },
  {
   "cell_type": "markdown",
   "metadata": {},
   "source": [
    "### Choose a Cluster Type\n",
    "\n",
    "**5)** What are the advantages of using K Means clustering or Gaussian Mixture Models?"
   ]
  },
  {
   "cell_type": "markdown",
   "metadata": {},
   "source": [
    "Answer: "
   ]
  },
  {
   "cell_type": "markdown",
   "metadata": {},
   "source": [
    "**6)** Below is some starter code to help you visualize some cluster data. The visualization is based on [this demo](http://scikit-learn.org/stable/auto_examples/cluster/plot_kmeans_digits.html) from the sklearn documentation."
   ]
  },
  {
   "cell_type": "code",
   "execution_count": null,
   "metadata": {
    "collapsed": true
   },
   "outputs": [],
   "source": [
    "# Import clustering modules\n",
    "from sklearn.cluster import KMeans\n",
    "from sklearn.mixture import GMM"
   ]
  },
  {
   "cell_type": "code",
   "execution_count": null,
   "metadata": {
    "collapsed": false
   },
   "outputs": [],
   "source": [
    "# TODO: First we reduce the data to two dimensions using PCA to capture variation\n",
    "reduced_data = ?\n",
    "print reduced_data[:10]  # print upto 10 elements"
   ]
  },
  {
   "cell_type": "code",
   "execution_count": null,
   "metadata": {
    "collapsed": false
   },
   "outputs": [],
   "source": [
    "# TODO: Implement your clustering algorithm here, and fit it to the reduced data for visualization\n",
    "# The visualizer below assumes your clustering object is named 'clusters'\n",
    "\n",
    "clusters = ?\n",
    "print clusters"
   ]
  },
  {
   "cell_type": "code",
   "execution_count": null,
   "metadata": {
    "collapsed": false
   },
   "outputs": [],
   "source": [
    "# Plot the decision boundary by building a mesh grid to populate a graph.\n",
    "x_min, x_max = reduced_data[:, 0].min() - 1, reduced_data[:, 0].max() + 1\n",
    "y_min, y_max = reduced_data[:, 1].min() - 1, reduced_data[:, 1].max() + 1\n",
    "hx = (x_max-x_min)/1000.\n",
    "hy = (y_max-y_min)/1000.\n",
    "xx, yy = np.meshgrid(np.arange(x_min, x_max, hx), np.arange(y_min, y_max, hy))\n",
    "\n",
    "# Obtain labels for each point in mesh. Use last trained model.\n",
    "Z = clusters.predict(np.c_[xx.ravel(), yy.ravel()])"
   ]
  },
  {
   "cell_type": "code",
   "execution_count": null,
   "metadata": {
    "collapsed": false
   },
   "outputs": [],
   "source": [
    "# TODO: Find the centroids for KMeans or the cluster means for GMM \n",
    "\n",
    "centroids = ?\n",
    "print centroids"
   ]
  },
  {
   "cell_type": "code",
   "execution_count": null,
   "metadata": {
    "collapsed": false
   },
   "outputs": [],
   "source": [
    "# Put the result into a color plot\n",
    "Z = Z.reshape(xx.shape)\n",
    "plt.figure(1)\n",
    "plt.clf()\n",
    "plt.imshow(Z, interpolation='nearest',\n",
    "           extent=(xx.min(), xx.max(), yy.min(), yy.max()),\n",
    "           cmap=plt.cm.Paired,\n",
    "           aspect='auto', origin='lower')\n",
    "\n",
    "plt.plot(reduced_data[:, 0], reduced_data[:, 1], 'k.', markersize=2)\n",
    "plt.scatter(centroids[:, 0], centroids[:, 1],\n",
    "            marker='x', s=169, linewidths=3,\n",
    "            color='w', zorder=10)\n",
    "plt.title('Clustering on the wholesale grocery dataset (PCA-reduced data)\\n'\n",
    "          'Centroids are marked with white cross')\n",
    "plt.xlim(x_min, x_max)\n",
    "plt.ylim(y_min, y_max)\n",
    "plt.xticks(())\n",
    "plt.yticks(())\n",
    "plt.show()"
   ]
  },
  {
   "cell_type": "markdown",
   "metadata": {},
   "source": [
    "**7)** What are the central objects in each cluster? Describe them as customers."
   ]
  },
  {
   "cell_type": "markdown",
   "metadata": {
    "collapsed": true
   },
   "source": [
    "Answer: "
   ]
  },
  {
   "cell_type": "markdown",
   "metadata": {},
   "source": [
    "### Conclusions\n",
    "\n",
    "** 8)** Which of these techniques did you feel gave you the most insight into the data?"
   ]
  },
  {
   "cell_type": "markdown",
   "metadata": {
    "collapsed": true
   },
   "source": [
    "Answer: "
   ]
  },
  {
   "cell_type": "markdown",
   "metadata": {
    "collapsed": true
   },
   "source": [
    "**9)** How would you use that technique to help the company design new experiments?"
   ]
  },
  {
   "cell_type": "markdown",
   "metadata": {},
   "source": [
    "Answer: "
   ]
  },
  {
   "cell_type": "markdown",
   "metadata": {},
   "source": [
    "**10)** How would you use that data to help you predict future customer needs?"
   ]
  },
  {
   "cell_type": "markdown",
   "metadata": {},
   "source": [
    "Answer: "
   ]
  }
 ],
 "metadata": {
  "kernelspec": {
   "display_name": "Python 2",
   "language": "python",
   "name": "python2"
  },
  "language_info": {
   "codemirror_mode": {
    "name": "ipython",
    "version": 2
   },
   "file_extension": ".py",
   "mimetype": "text/x-python",
   "name": "python",
   "nbconvert_exporter": "python",
   "pygments_lexer": "ipython2",
   "version": "2.7.11"
  }
 },
 "nbformat": 4,
 "nbformat_minor": 0
}
