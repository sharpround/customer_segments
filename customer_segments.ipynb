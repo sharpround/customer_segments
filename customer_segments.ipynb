{
 "cells": [
  {
   "cell_type": "markdown",
   "metadata": {},
   "source": [
    "# Creating Customer Segments"
   ]
  },
  {
   "cell_type": "markdown",
   "metadata": {},
   "source": [
    "In this project you, will analyze a dataset containing annual spending amounts for internal structure, to understand the variation in the different types of customers that a wholesale distributor interacts with.\n",
    "\n",
    "Instructions:\n",
    "\n",
    "- Run each code block below by pressing **Shift+Enter**, making sure to implement any steps marked with a TODO.\n",
    "- Answer each question in the space provided by editing the blocks labeled \"Answer:\".\n",
    "- When you are done, submit the completed notebook (.ipynb) with all code blocks executed, as well as a .pdf version (File > Download as)."
   ]
  },
  {
   "cell_type": "code",
   "execution_count": 1,
   "metadata": {
    "collapsed": false
   },
   "outputs": [
    {
     "name": "stdout",
     "output_type": "stream",
     "text": [
      "Dataset has 440 rows, 6 columns\n",
      "   Fresh  Milk  Grocery  Frozen  Detergents_Paper  Delicatessen\n",
      "0  12669  9656     7561     214              2674          1338\n",
      "1   7057  9810     9568    1762              3293          1776\n",
      "2   6353  8808     7684    2405              3516          7844\n",
      "3  13265  1196     4221    6404               507          1788\n",
      "4  22615  5410     7198    3915              1777          5185\n",
      "\n",
      "Mean:\n",
      "Fresh               12000.297727\n",
      "Milk                 5796.265909\n",
      "Grocery              7951.277273\n",
      "Frozen               3071.931818\n",
      "Detergents_Paper     2881.493182\n",
      "Delicatessen         1524.870455\n",
      "dtype: float64\n",
      "\n",
      "Standard deviation:\n",
      "Fresh               12647.328865\n",
      "Milk                 7380.377175\n",
      "Grocery              9503.162829\n",
      "Frozen               4854.673333\n",
      "Detergents_Paper     4767.854448\n",
      "Delicatessen         2820.105937\n",
      "dtype: float64\n"
     ]
    }
   ],
   "source": [
    "# Import libraries: NumPy, pandas, matplotlib\n",
    "import numpy as np\n",
    "import pandas as pd\n",
    "import matplotlib.pyplot as plt\n",
    "import seaborn as sns\n",
    "\n",
    "# Tell iPython to include plots inline in the notebook\n",
    "%matplotlib inline\n",
    "\n",
    "# Read dataset\n",
    "data = pd.read_csv(\"wholesale-customers.csv\")\n",
    "print \"Dataset has {} rows, {} columns\".format(*data.shape)\n",
    "print data.head()  # print the first 5 rows\n",
    "print \"\\nMean:\"\n",
    "print data.mean()\n",
    "print \"\\nStandard deviation:\"\n",
    "print data.std()"
   ]
  },
  {
   "cell_type": "code",
   "execution_count": 2,
   "metadata": {
    "collapsed": false
   },
   "outputs": [
    {
     "name": "stdout",
     "output_type": "stream",
     "text": [
      "[[ 0.00667696  0.05701086 -0.00460077 -0.0494477  -0.00546819 -0.00402581]\n",
      " [-0.04935859  0.05928554  0.01905867 -0.02266433  0.01084468  0.00541016]\n",
      " [-0.056388    0.04448533 -0.00315079 -0.0115392   0.01672153  0.13613495]\n",
      " [ 0.01262799 -0.06794901 -0.04397422  0.05765116 -0.0625764   0.00566868]\n",
      " [ 0.1059873  -0.00570541 -0.00887998  0.01458669 -0.02910735  0.07885129]\n",
      " [-0.02583404  0.03637623 -0.03330567 -0.04162723 -0.02863299 -0.00159141]\n",
      " [ 0.00125513 -0.03836336 -0.01150881 -0.04484539  0.00681258 -0.02110965]\n",
      " [-0.04414645 -0.01241129  0.01738471 -0.02427341  0.01158258  0.02242937]\n",
      " [-0.06028213 -0.03173133 -0.02073917 -0.04579699 -0.03071492 -0.01669327]\n",
      " [-0.05985278  0.07823631  0.1288446  -0.03309739  0.11973768  0.01234711]]\n"
     ]
    }
   ],
   "source": [
    "# normalize each feature\n",
    "from sklearn.preprocessing import MaxAbsScaler\n",
    "scaler = MaxAbsScaler()\n",
    "data_scaled = scaler.fit_transform(data - data.mean())\n",
    "\n",
    "print data_scaled[:10, :]"
   ]
  },
  {
   "cell_type": "markdown",
   "metadata": {},
   "source": [
    "## Feature Transformation"
   ]
  },
  {
   "cell_type": "markdown",
   "metadata": {},
   "source": [
    "**1)** In this section you will be using PCA and ICA to start to understand the structure of the data. Before doing any computations, what do you think will show up in your computations? List one or two ideas for what might show up as the first PCA dimensions, or what type of vectors will show up as ICA dimensions."
   ]
  },
  {
   "cell_type": "markdown",
   "metadata": {},
   "source": [
    "Answer:\n",
    "\n",
    "For the first PCA component, I think we will see \"fresh\" and \"milk\" have the same sign, and relatively magnitude large. Customers interested in one perishable item is likely interested in others.\n",
    "\n",
    "I believe that all the other dimensions would also have the sign, as more spending in one category would likely be associated with higher spending in others.\n",
    "\n",
    "Finally, I think that it is clear that the magnitude of \"fresh\" will be clearly be much larger than the others."
   ]
  },
  {
   "cell_type": "markdown",
   "metadata": {},
   "source": [
    "### PCA"
   ]
  },
  {
   "cell_type": "code",
   "execution_count": 3,
   "metadata": {
    "collapsed": false
   },
   "outputs": [
    {
     "name": "stdout",
     "output_type": "stream",
     "text": [
      "PCA components:\n",
      "[[ -2.01256748e-02   4.90848222e-01   5.82012008e-01  -1.72017139e-02\n",
      "    6.43116310e-01   7.76563979e-02]\n",
      " [ -8.91062148e-01  -1.71130905e-01   4.56375604e-04  -3.56368970e-01\n",
      "    1.15793870e-01  -1.90565448e-01]\n",
      " [  4.51377269e-01  -3.69724766e-01   9.44625098e-02  -6.69049162e-01\n",
      "    2.39047016e-01  -3.81927658e-01]\n",
      " [ -2.97656925e-02  -6.40258287e-01   2.06433605e-01   6.14293858e-01\n",
      "    3.44491604e-01  -2.24804554e-01]\n",
      " [  9.70182335e-03   4.26414968e-01  -2.13791280e-01   2.18266341e-01\n",
      "   -2.30762701e-02  -8.50997490e-01]\n",
      " [ -2.96924947e-02  -3.64065401e-02   7.51010722e-01  -9.01871261e-03\n",
      "   -6.29795789e-01  -1.92488291e-01]]\n",
      "\n",
      "explained variance:\n",
      "[ 0.51762627  0.27336241  0.10304974  0.06064994  0.03250552  0.01280611]\n",
      "\n",
      "cumulative explained variance:\n",
      "[ 0.51762627  0.79098868  0.89403842  0.95468837  0.98719389  1.        ]\n"
     ]
    }
   ],
   "source": [
    "# TODO: Apply PCA with the same number of dimensions as variables in the dataset\n",
    "n_features = data_scaled.shape[1]\n",
    "n_samples = data_scaled.shape[0]\n",
    "n_components = n_features\n",
    "\n",
    "from sklearn.decomposition import PCA\n",
    "pca = PCA(n_components=n_components)\n",
    "data_pca = pca.fit_transform(data_scaled)\n",
    "\n",
    "# Print the components and the amount of variance in the data contained in each dimension\n",
    "print \"PCA components:\"\n",
    "print pca.components_\n",
    "print \"\\nexplained variance:\"\n",
    "print pca.explained_variance_ratio_\n",
    "print \"\\ncumulative explained variance:\"\n",
    "print np.cumsum(pca.explained_variance_ratio_)"
   ]
  },
  {
   "cell_type": "markdown",
   "metadata": {},
   "source": [
    "**2)** How quickly does the variance drop off by dimension? If you were to use PCA on this dataset, how many dimensions would you choose for your analysis? Why?"
   ]
  },
  {
   "cell_type": "code",
   "execution_count": 4,
   "metadata": {
    "collapsed": false
   },
   "outputs": [
    {
     "data": {
      "text/plain": [
       "<matplotlib.text.Text at 0xace1208>"
      ]
     },
     "execution_count": 4,
     "metadata": {},
     "output_type": "execute_result"
    },
    {
     "data": {
      "image/png": "[encoded data removed]",
      "text/plain": [
       "<matplotlib.figure.Figure at 0xab21588>"
      ]
     },
     "metadata": {},
     "output_type": "display_data"
    },
    {
     "data": {
      "image/png": "[encoded data removed]",
      "text/plain": [
       "<matplotlib.figure.Figure at 0xaba0240>"
      ]
     },
     "metadata": {},
     "output_type": "display_data"
    }
   ],
   "source": [
    "plt.figure()\n",
    "plt.plot(range(1, n_components+1), pca.explained_variance_ratio_)\n",
    "plt.axis([0, n_components, 0, 1.1])\n",
    "plt.xlabel(\"component\")\n",
    "plt.ylabel(\"explained variance\")\n",
    "plt.grid(True)\n",
    "plt.title(\"variance explained by each PCA component\")\n",
    "\n",
    "plt.figure()\n",
    "plt.plot(range(1, n_components+1), np.cumsum(pca.explained_variance_ratio_))\n",
    "plt.axis([0, n_components, 0, 1.1])\n",
    "plt.xlabel(\"number of components\")\n",
    "plt.ylabel(\"explained variance\")\n",
    "plt.grid(True)\n",
    "plt.title(\"variance explained by given number of PCA components\")"
   ]
  },
  {
   "cell_type": "markdown",
   "metadata": {
    "collapsed": true
   },
   "source": [
    "Answer:\n",
    "\n",
    "The explained variance falls off rather quickly after the first two components which, between them, capture 79.1% of the variance in the normalized data.\n",
    "\n",
    "If I were to use PCA on this dataset, how many components I would use would vary depending on what I was trying to do. There are so few dimensions that I don't believe that I would throw any of them away, and use the full set. Unless I start running into computational issues, I don't see any reason to reduce the dimension.\n",
    "\n",
    "That said, if I *did* start running into computational issues, and I need my algorithms to run more efficiently, then I would absolutely keep the first two dimensions. I would compare the results from using two dimensions to those from using three and four dimensions, though, to see what the right balance is. If my clusters change significantly between using 2 dimensions and 3 dimensions, then perhaps there is some important information in that third dimension, even though it represents much less of the total variation. Honestly, I doubt that fourth dimension will make a difference, but I don't see a reason not to check.\n",
    "\n",
    "Unless we want to create tens or hundreds of market segments (which we do not even have the data to do), the last 2.3% of variance that the fifth and sixth dimensions capture should not matter."
   ]
  },
  {
   "cell_type": "code",
   "execution_count": 5,
   "metadata": {
    "collapsed": false
   },
   "outputs": [
    {
     "data": {
      "image/png": "[encoded data removed]",
      "text/plain": [
       "<matplotlib.figure.Figure at 0x3c3ccf8>"
      ]
     },
     "metadata": {},
     "output_type": "display_data"
    },
    {
     "data": {
      "image/png": "[encoded data removed]",
      "text/plain": [
       "<matplotlib.figure.Figure at 0xbee4be0>"
      ]
     },
     "metadata": {},
     "output_type": "display_data"
    },
    {
     "data": {
      "image/png": "[encoded data removed]",
      "text/plain": [
       "<matplotlib.figure.Figure at 0xc08f1d0>"
      ]
     },
     "metadata": {},
     "output_type": "display_data"
    }
   ],
   "source": [
    "# X_reduced = np.dot(pca.components_, np.transpose(data.as_matrix()))\n",
    "\n",
    "plt.figure()\n",
    "plt.plot(data_pca[:, 0], data_pca[:, 1], '.')\n",
    "plt.xlabel(\"component 1\")\n",
    "plt.ylabel(\"component 2\")\n",
    "plt_axis1 = plt.axis('square')\n",
    "\n",
    "plt.figure()\n",
    "plt.plot(data_pca[:, 0], data_pca[:, 2], '.')\n",
    "plt.xlabel(\"component 1\")\n",
    "plt.ylabel(\"component 3\")\n",
    "plt_axis2 = plt.axis('square')\n",
    "\n",
    "plt.figure()\n",
    "plt.plot(data_pca[:, 1], data_pca[:, 2], '.')\n",
    "plt.xlabel(\"component 2\")\n",
    "plt.ylabel(\"component 3\")\n",
    "plt_axis3 = plt.axis('square')"
   ]
  },
  {
   "cell_type": "code",
   "execution_count": 6,
   "metadata": {
    "collapsed": false
   },
   "outputs": [
    {
     "name": "stdout",
     "output_type": "stream",
     "text": [
      "Fresh  Milk  Grocery  Frozen  Detergents_Paper  Delicatessen\n",
      "[[ -2.01256748e-02   4.90848222e-01   5.82012008e-01  -1.72017139e-02\n",
      "    6.43116310e-01   7.76563979e-02]\n",
      " [ -8.91062148e-01  -1.71130905e-01   4.56375604e-04  -3.56368970e-01\n",
      "    1.15793870e-01  -1.90565448e-01]\n",
      " [  4.51377269e-01  -3.69724766e-01   9.44625098e-02  -6.69049162e-01\n",
      "    2.39047016e-01  -3.81927658e-01]\n",
      " [ -2.97656925e-02  -6.40258287e-01   2.06433605e-01   6.14293858e-01\n",
      "    3.44491604e-01  -2.24804554e-01]\n",
      " [  9.70182335e-03   4.26414968e-01  -2.13791280e-01   2.18266341e-01\n",
      "   -2.30762701e-02  -8.50997490e-01]\n",
      " [ -2.96924947e-02  -3.64065401e-02   7.51010722e-01  -9.01871261e-03\n",
      "   -6.29795789e-01  -1.92488291e-01]]\n"
     ]
    }
   ],
   "source": [
    "print 'Fresh  Milk  Grocery  Frozen  Detergents_Paper  Delicatessen'\n",
    "# Print the independent components\n",
    "print pca.components_"
   ]
  },
  {
   "cell_type": "markdown",
   "metadata": {},
   "source": [
    "**3)** What do the dimensions seem to represent? How can you use this information?"
   ]
  },
  {
   "cell_type": "markdown",
   "metadata": {
    "collapsed": true
   },
   "source": [
    "Answer:\n",
    "\n",
    "The dimensions represent the directions in which the data varies. The first two components explain similar amounts of variance. The first points mostly in the \"milk-grocery-detergents_paper\" direction, and the second points more-or-less in the \"fresh\" direction.\n",
    "\n",
    "Just by looking at these first two PCA components, we see that the customers tend to buy \"grocery\", \"frozen\", and \"detergents_paper\" together, and the \"fresh\" varies only loosely with any other categories.\n",
    "\n",
    "The data of most customers will lie near the plane defined by these first two vectors. As discussed above, we can project our data onto the first few PCA components in order to reduce the dimensionality of our data.\n",
    "\n",
    "Even if we do not use the components for dimension reduction for our computation and analysis, projecting onto the PCA components will allow us to visualize our data effectively without losing significant meaning."
   ]
  },
  {
   "cell_type": "markdown",
   "metadata": {},
   "source": [
    "### ICA"
   ]
  },
  {
   "cell_type": "code",
   "execution_count": 7,
   "metadata": {
    "collapsed": false
   },
   "outputs": [
    {
     "name": "stdout",
     "output_type": "stream",
     "text": [
      "-2.52323414688e-18\n",
      "0.0\n",
      "-8.07434927e-18\n",
      "3.28020439094e-18\n",
      "6.0557619525e-18\n",
      "5.04646829375e-19\n"
     ]
    }
   ],
   "source": [
    "for col in data_scaled.transpose():\n",
    "    print col.mean()"
   ]
  },
  {
   "cell_type": "code",
   "execution_count": 8,
   "metadata": {
    "collapsed": false
   },
   "outputs": [
    {
     "name": "stdout",
     "output_type": "stream",
     "text": [
      "Fresh  Milk  Grocery  Frozen  Detergents_Paper  Delicatessen\n",
      "[[-0.12069627 -0.01378871  0.0925356   0.90437177 -0.02884341 -0.39744081]\n",
      " [-0.03173331  0.18851928 -0.96019094 -0.02875319  0.15126655  0.1333361 ]\n",
      " [-0.94572922  0.14112658  0.14881367  0.09230931 -0.20810688  0.10818749]\n",
      " [ 0.01863745 -0.11539362 -0.6611499   0.05792844  0.71686982  0.17877282]\n",
      " [-0.04696914 -0.01690646 -0.05980194 -0.02938046  0.02300923  0.9962626 ]\n",
      " [ 0.01780038  0.74597989 -0.56571791 -0.02213078  0.15571617 -0.31372456]]\n"
     ]
    }
   ],
   "source": [
    "# TODO: Fit an ICA model to the data\n",
    "# Note: Adjust the data to have center at the origin fi|rst!\n",
    "from sklearn.decomposition import FastICA\n",
    "\n",
    "ica = FastICA(n_components=n_components, whiten=True, random_state=42)\n",
    "\n",
    "ica.fit(data_scaled)\n",
    "# data_ica = ica.fit_transform(data_scaled)\n",
    "\n",
    "print 'Fresh  Milk  Grocery  Frozen  Detergents_Paper  Delicatessen'\n",
    "# Print the independent components\n",
    "\n",
    "A = np.zeros(ica.components_.shape)\n",
    "for i in range(ica.components_.shape[1]):\n",
    "    component = ica.components_[i]\n",
    "    component /= np.linalg.norm(component)\n",
    "    A[i] = component\n",
    "\n",
    "print A"
   ]
  },
  {
   "cell_type": "markdown",
   "metadata": {},
   "source": [
    "**4)** For each vector in the ICA decomposition, write a sentence or two explaining what sort of object or property it corresponds to. What could these components be used for?"
   ]
  },
  {
   "cell_type": "markdown",
   "metadata": {
    "collapsed": true
   },
   "source": [
    "Answer: \n",
    "\n",
    "We can imagine the ICA components to be the underlying purchasing behaviors that combine in different ways for each customer to create their purchases. We can take these as idealized customers or, more realistically, as the principle behaviors that sum to create each customer's buying history.\n",
    "\n",
    "For most of the components that we identify, we can make up explanations for what they mean. To relate the components to customer characteristics and motivations, however, we should talk to customers that strongly exhibit a given component to learn what their underlying reasons for their purchasing pattern is.\n",
    "\n",
    "* One component describes a tendency for *frozen* to be purchased in inverse to *delicatessen*.\n",
    "\n",
    "* Another component describes a tendency to buy *grocery*, with a small tendency to buy less *milk*, *detergents_paper* or *delicatessen*.\n",
    "\n",
    "* A third component describes a tendency to buy *fresh* and a bit of *detergents_paper* at the expense of the other categories.\n",
    "\n",
    "* A fourth component describes the tendency of *grocery* and *detergents_paper* to move opposite each other.\n",
    "\n",
    "* A fifth component is simply a lot of *delicastessen* buying, without any other categories varying significantly from the mean. Perhaps this indicates that a customer has a meat counter or sells sandwiches.\n",
    "\n",
    "* A sixth component describes a tendency for *grocery* and *delicatessen* to be purchased together, but not with *milk* (and/or vice versa).\n",
    "\n",
    "Technical note: To make discussion easier, we have fixed the random seed to get identical results with every test run. Even with a different random seed, though, these components are reliably reproduced with only small variations."
   ]
  },
  {
   "cell_type": "markdown",
   "metadata": {},
   "source": [
    "## Clustering\n",
    "\n",
    "In this section you will choose either K Means clustering or Gaussian Mixed Models clustering, which implements expectation-maximization. Then you will sample elements from the clusters to understand their significance."
   ]
  },
  {
   "cell_type": "markdown",
   "metadata": {},
   "source": [
    "### Choose a Cluster Type\n",
    "\n",
    "**5)** What are the advantages of using K Means clustering or Gaussian Mixture Models?"
   ]
  },
  {
   "cell_type": "markdown",
   "metadata": {},
   "source": [
    "Answer: \n",
    "\n",
    "K-Means clustering is relatively fast and robust. Perhaps its greatest advantage, however, is its simplicity and ease of use."
   ]
  },
  {
   "cell_type": "markdown",
   "metadata": {},
   "source": [
    "**6)** Below is some starter code to help you visualize some cluster data. The visualization is based on [this demo](http://scikit-learn.org/stable/auto_examples/cluster/plot_kmeans_digits.html) from the sklearn documentation."
   ]
  },
  {
   "cell_type": "code",
   "execution_count": 9,
   "metadata": {
    "collapsed": true
   },
   "outputs": [],
   "source": [
    "# Import clustering modules\n",
    "from sklearn.cluster import KMeans\n",
    "from sklearn.mixture import GMM"
   ]
  },
  {
   "cell_type": "code",
   "execution_count": 10,
   "metadata": {
    "collapsed": false
   },
   "outputs": [
    {
     "name": "stdout",
     "output_type": "stream",
     "text": [
      "[[ 0.02219287  0.00204761]\n",
      " [ 0.04897034  0.0421463 ]\n",
      " [ 0.04266073  0.0227368 ]\n",
      " [-0.09999572 -0.02851552]\n",
      " [-0.02294883 -0.11706398]\n",
      " [-0.01883103  0.02860184]\n",
      " [-0.02204071  0.02623463]\n",
      " [ 0.0145228   0.04718634]\n",
      " [-0.04669431  0.07508106]\n",
      " [ 0.19312925  0.06330953]]\n"
     ]
    }
   ],
   "source": [
    "# TODO: First we reduce the data to two dimensions using PCA to capture variation\n",
    "reduced_data = data_pca[:, :2]\n",
    "# print reduced_data.shape\n",
    "print reduced_data[:10]  # print up to 10 elements"
   ]
  },
  {
   "cell_type": "code",
   "execution_count": 11,
   "metadata": {
    "collapsed": false
   },
   "outputs": [
    {
     "name": "stdout",
     "output_type": "stream",
     "text": [
      "KMeans(copy_x=True, init='k-means++', max_iter=300, n_clusters=6L, n_init=10,\n",
      "    n_jobs=1, precompute_distances='auto', random_state=None, tol=0.0001,\n",
      "    verbose=0)\n"
     ]
    }
   ],
   "source": [
    "# TODO: Implement your clustering algorithm here, and fit it to the reduced data for visualization\n",
    "# The visualizer below assumes your clustering object is named 'clusters'\n",
    "\n",
    "clusters = KMeans(n_clusters=n_components)\n",
    "clusters.fit(reduced_data)\n",
    "print clusters"
   ]
  },
  {
   "cell_type": "code",
   "execution_count": 12,
   "metadata": {
    "collapsed": false
   },
   "outputs": [],
   "source": [
    "# Plot the decision boundary by building a mesh grid to populate a graph.\n",
    "x_min, x_max = reduced_data[:, 0].min() - 0.1, reduced_data[:, 0].max() + 0.1\n",
    "y_min, y_max = reduced_data[:, 1].min() - 0.1, reduced_data[:, 1].max() + 0.1\n",
    "hx = (x_max-x_min)/1000.0\n",
    "hy = (y_max-y_min)/1000.0\n",
    "xx, yy = np.meshgrid(np.arange(x_min, x_max, hx), np.arange(y_min, y_max, hy))\n",
    "\n",
    "# Obtain labels for each point in mesh. Use last trained model.\n",
    "Z = clusters.predict(np.c_[xx.ravel(), yy.ravel()])"
   ]
  },
  {
   "cell_type": "markdown",
   "metadata": {},
   "source": [
    "### PCA components"
   ]
  },
  {
   "cell_type": "code",
   "execution_count": 13,
   "metadata": {
    "collapsed": false
   },
   "outputs": [
    {
     "name": "stdout",
     "output_type": "stream",
     "text": [
      "[[-0.09167065  0.04647277]\n",
      " [ 0.38622729  0.0555936 ]\n",
      " [-0.06718846 -0.14533407]\n",
      " [ 0.09541551  0.07147261]\n",
      " [ 0.04255322 -0.61475489]\n",
      " [ 1.09883618 -0.13543999]]\n"
     ]
    }
   ],
   "source": [
    "# TODO: Find the centroids for KMeans or the cluster means for GMM \n",
    "\n",
    "centroids = clusters.cluster_centers_\n",
    "print centroids"
   ]
  },
  {
   "cell_type": "code",
   "execution_count": 14,
   "metadata": {
    "collapsed": false
   },
   "outputs": [
    {
     "data": {
      "text/plain": [
       "array([[-0.0395652 , -0.0529493 , -0.05333221, -0.01498456, -0.05357363,\n",
       "        -0.01597492],\n",
       "       [-0.05731044,  0.1800652 ,  0.22481429, -0.02645561,  0.25482647,\n",
       "         0.0193988 ],\n",
       "       [ 0.13085391, -0.00810818, -0.03917082,  0.05294831, -0.06003879,\n",
       "         0.02247804],\n",
       "       [-0.06560684,  0.03460336,  0.05556559, -0.02711193,  0.06963936,\n",
       "        -0.00621058],\n",
       "       [ 0.5469284 ,  0.12609073,  0.02448593,  0.21834758, -0.04381818,\n",
       "         0.12045557],\n",
       "       [ 0.09857063,  0.56253975,  0.63947404,  0.02936475,  0.69099635,\n",
       "         0.11114184]])"
      ]
     },
     "execution_count": 14,
     "metadata": {},
     "output_type": "execute_result"
    }
   ],
   "source": [
    "np.dot(centroids, pca.components_[:2])"
   ]
  },
  {
   "cell_type": "code",
   "execution_count": 15,
   "metadata": {
    "collapsed": false
   },
   "outputs": [
    {
     "data": {
      "image/png": "[encoded data removed]",
      "text/plain": [
       "<matplotlib.figure.Figure at 0xc61c2e8>"
      ]
     },
     "metadata": {},
     "output_type": "display_data"
    }
   ],
   "source": [
    "# Put the result into a color plot\n",
    "Z = Z.reshape(xx.shape)\n",
    "plt.figure(1)\n",
    "plt.clf()\n",
    "plt.imshow(Z, interpolation='nearest',\n",
    "           extent=(xx.min(), xx.max(), yy.min(), yy.max()),\n",
    "           cmap=plt.cm.Paired,\n",
    "           aspect='auto', origin='lower')\n",
    "\n",
    "plt.plot(reduced_data[:, 0], reduced_data[:, 1], 'k.', markersize=3)\n",
    "plt.scatter(centroids[:, 0], centroids[:, 1],\n",
    "            marker='x', s=169, linewidths=3,\n",
    "            color='w', zorder=10)\n",
    "plt.title('Clustering on the wholesale grocery dataset (PCA-reduced data)\\n'\n",
    "          'Centroids are marked with white cross')\n",
    "plt.xlim(x_min, x_max)\n",
    "plt.ylim(y_min, y_max)\n",
    "plt.xticks(())\n",
    "plt.yticks(())\n",
    "plt.show()"
   ]
  },
  {
   "cell_type": "markdown",
   "metadata": {},
   "source": [
    "**7)** What are the central objects in each cluster? Describe them as customers."
   ]
  },
  {
   "cell_type": "markdown",
   "metadata": {
    "collapsed": true
   },
   "source": [
    "Answer: \n",
    "\n",
    "The centroids (denoted by the white \"x\"s in the plot above), describe the \"average\" customer in each segment. In this case, they are less \"clusters\" and more \"brackets\". That is to say, if we look at the scatter plot of the data, it looks like the customers do not bunch up naturally--all the clustering really does is split them up into brackets on the two dimensions. It may be useful to break the customers up into brackets for analysis or marketing, but it does not look like there is anything in the data suggesting that there is a \"natural\" clustering."
   ]
  },
  {
   "cell_type": "markdown",
   "metadata": {},
   "source": [
    "### Conclusions\n",
    "\n",
    "** 8)** Which of these techniques did you feel gave you the most insight into the data?"
   ]
  },
  {
   "cell_type": "markdown",
   "metadata": {
    "collapsed": true
   },
   "source": [
    "Answer: \n",
    "\n",
    "For this analysis, I was particularly intrigued by the independent component analysis. If it can truly be interpreted as a set of independent, underlying behaviors that make up the overall purchasing of each customer, then the results are complex and intriguing. If we can determine the qualities of the customers that lead to each component, then we should be able to better design advertising, promotions, pricing, or even store layout in a way that better captures profitable behaviors and/or improves customer satisfaction. \n",
    "\n",
    "The principal component analysis was useful for reducing the number of features in our data, and it revealed a clear plane of maximal variation. There are perhaps some business insights that can be teased out of that--e.g. why do \"milk\", \"grocery\" and \"detergents_paper\" vary together? And why does \"fresh\" tend to vary less with categories?\n",
    "\n",
    "The clustering we have tried so far seems simply like a convenient way of describing our data. It does not reveal any clear patterns in the data."
   ]
  },
  {
   "cell_type": "markdown",
   "metadata": {
    "collapsed": true
   },
   "source": [
    "**9)** How would you use that technique to help the company design new experiments?"
   ]
  },
  {
   "cell_type": "markdown",
   "metadata": {},
   "source": [
    "Answer:\n",
    "\n",
    "The challenge with our results from ICA is that we do not know exactly how they are meaningful descriptions of the customers. What we should do is find the customers that most strongly exhibit certain behaviors and look at what they buy and why. As an analogy to the cocktail problem, this would be like moving your microphone as close as possible to one of the sources in order to figure out what that particular source sounds like.\n",
    "\n",
    "We can identify those customers readily enough (see below). Now we have to gather the data that it will take to extract a bit more meaning.\n",
    "\n",
    "A simple experiment that the store can do is start to tweak promotions to see whether you can manipulate these findings. For example, if you offer a good deal or a sale on *grocery* and get an increase in volume, do you see a corresponding increase in *detergents_paper*?\n",
    "\n",
    "Given that all the customers are a mix of these maximally independent components, it would be useful to figure out what, if anything, causes these components. To work towards answering that, I would try to look at the data on individual transactions. A simple hypothesis is that each component represents a certain kind of purchasing experience--e.g. restocking the freezers, or restocking the dry goods. If this is true, then we may expect individual transactions to resemble the ICA components more closely than customers' aggregate behavior.\n",
    "\n",
    "If individual shopping experiences do resemble the ICA components, then more interesting experiments may involve the layout of the store. Perhaps you can increase the sale of a specific *detergents_paper* product by moving it closer to the *fresh* section. Or maybe you could streamline a customer's buying by putting *grocery* and *delicatessen* close to each other, or separate them in order to get a customer to walk past many other products."
   ]
  },
  {
   "cell_type": "code",
   "execution_count": 16,
   "metadata": {
    "collapsed": false
   },
   "outputs": [
    {
     "name": "stdout",
     "output_type": "stream",
     "text": [
      "the first 5 customers transformed into ICA space:\n",
      "[[-0.66496818  0.22192501 -0.04162513 -0.16138984 -0.05449527  0.69124348]\n",
      " [-0.23948077 -0.03793914  0.80718248 -0.19289797  0.09667301  0.4930626 ]\n",
      " [-0.34326213  0.19864373  0.40246671  0.18320491  0.80374158 -0.03417251]\n",
      " [ 0.72921302  0.28908425 -0.14137298 -0.05203623  0.0883614  -0.59512759]\n",
      " [-0.25531134  0.08094842 -0.71543262  0.02135661  0.60517471 -0.22299576]]\n",
      "\n",
      "customers that are closest to a given ICA component:\n",
      "[325  85 181 109 183  86]\n",
      "[ 0.84961187 -0.06363904 -0.0521144  -0.01584994  0.0408402   0.03056852]\n",
      "[ 0.00633831 -0.6926364  -0.0139108  -0.00895968 -0.01731374  0.02708238]\n",
      "[ 0.03779946 -0.05917826 -0.85128754 -0.02165221  0.08497286  0.16814519]\n",
      "[ 0.01053522 -0.21562831  0.16357291 -0.23145837 -0.04527492 -0.01888835]\n",
      "[ 0.10377518  0.06621772  0.04246203  0.00674978  0.94785588  0.00595051]\n",
      "[-0.04096118 -0.02067286 -0.01869507  0.01855866 -0.04092857  0.66231924]\n"
     ]
    }
   ],
   "source": [
    "from sklearn.preprocessing import normalize\n",
    "\n",
    "data_ica = np.dot(data_scaled, A.transpose())\n",
    "print \"the first 5 customers transformed into ICA space:\"\n",
    "print normalize(data_ica[:5, :])\n",
    "\n",
    "ica_argmax = np.argmax(np.abs(data_ica), axis=0)\n",
    "print \"\\ncustomers that are closest to a given ICA component:\"\n",
    "print ica_argmax\n",
    "\n",
    "for arg in ica_argmax:\n",
    "    print data_ica[arg]"
   ]
  },
  {
   "cell_type": "markdown",
   "metadata": {},
   "source": [
    "**10)** How would you use that data to help you predict future customer needs?"
   ]
  },
  {
   "cell_type": "markdown",
   "metadata": {},
   "source": [
    "Answer: \n",
    "\n",
    "Most directly, the ICA components could inform premium or targeted services that address customer needs. For example, only one ICA component has a large *frozen* component. If a customer has a significant score along that component, then they may be interested in related deals or announcements, regardless of the total volume of *frozen* sales they actually have. And, if the wholesaler is interested in changing inventory, then those customers are likely the ones to care the most, and could be targeted for research.\n",
    "\n",
    "More indirectly, ICA components could be used as preprocessing for other analysis. If we plan to do regression or classification, the transformed data may yield more accurate predictions than the non-transformed data."
   ]
  }
 ],
 "metadata": {
  "kernelspec": {
   "display_name": "Python 2",
   "language": "python",
   "name": "python2"
  },
  "language_info": {
   "codemirror_mode": {
    "name": "ipython",
    "version": 2
   },
   "file_extension": ".py",
   "mimetype": "text/x-python",
   "name": "python",
   "nbconvert_exporter": "python",
   "pygments_lexer": "ipython2",
   "version": "2.7.11"
  }
 },
 "nbformat": 4,
 "nbformat_minor": 0
}
